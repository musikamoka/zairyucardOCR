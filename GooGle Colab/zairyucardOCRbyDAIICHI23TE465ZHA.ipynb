{
  "nbformat": 4,
  "nbformat_minor": 0,
  "metadata": {
    "colab": {
      "provenance": [],
      "gpuType": "A100",
      "machine_shape": "hm"
    },
    "kernelspec": {
      "name": "python3",
      "display_name": "Python 3"
    },
    "language_info": {
      "name": "python"
    },
    "accelerator": "GPU"
  },
  "cells": [
    {
      "cell_type": "code",
      "execution_count": null,
      "metadata": {
        "id": "SjcmNE1_O8Fv"
      },
      "outputs": [],
      "source": [
        "import torch\n",
        "torch.cuda.is_available()"
      ]
    },
    {
      "cell_type": "code",
      "source": [
        "!nvidia-smi"
      ],
      "metadata": {
        "id": "btUtzlmqPG3n"
      },
      "execution_count": null,
      "outputs": []
    },
    {
      "cell_type": "code",
      "source": [
        "#1モデルの指定 PyTorchバージョン\n",
        "!pip install torch==2.0.1 torchvision==0.15.2 torchaudio==2.0.2 --index-url https://download.pytorch.org/whl/cu118\n"
      ],
      "metadata": {
        "id": "5tLbWySxSWbu"
      },
      "execution_count": null,
      "outputs": []
    },
    {
      "cell_type": "code",
      "source": [
        "#2モデルの指定xformersバージョン\n",
        "!pip install xformers==0.0.22\n"
      ],
      "metadata": {
        "id": "5XrRi8w8SX6-"
      },
      "execution_count": null,
      "outputs": []
    },
    {
      "cell_type": "code",
      "source": [
        "#モデルの指定numpyバージョン\n",
        "pip install \"numpy<2\""
      ],
      "metadata": {
        "id": "GEtLxxKth9LT"
      },
      "execution_count": null,
      "outputs": []
    },
    {
      "cell_type": "code",
      "source": [
        "#main 環境設置\n",
        "!pip install git+https://github.com/deepseek-ai/deepseek-vl2.git"
      ],
      "metadata": {
        "id": "7bsntVadiEcF"
      },
      "execution_count": null,
      "outputs": []
    },
    {
      "cell_type": "code",
      "source": [
        "#必要環境検査\n",
        "!pip show transformers || pip install -q transformers && pip show transformers\n",
        "!pip show accelerate || pip install -q accelerate && pip show accelerate\n",
        "!pip show deepseek-vl2 || pip install -q git+https://github.com/deepseek-ai/deepseek-vl2.git && pip show deepseek-vl2\n"
      ],
      "metadata": {
        "collapsed": true,
        "id": "zDYOWLsDPKJD"
      },
      "execution_count": null,
      "outputs": []
    },
    {
      "cell_type": "code",
      "source": [
        "import torch\n",
        "from google.colab import files\n",
        "import os, csv, re\n",
        "from deepseek_vl2.models import DeepseekVLV2Processor, DeepseekVLV2ForCausalLM\n",
        "from deepseek_vl2.utils.io import load_pil_images\n",
        "\n",
        "# ------------------------------\n",
        "# ✅ OCR モードはdeepseek desu\n",
        "# ------------------------------\n",
        "class OCRModel:\n",
        "    def __init__(self, model_path=\"deepseek-ai/deepseek-vl2-tiny\"):\n",
        "        self.processor = DeepseekVLV2Processor.from_pretrained(model_path)\n",
        "        self.tokenizer = self.processor.tokenizer\n",
        "        self.model = DeepseekVLV2ForCausalLM.from_pretrained(model_path, trust_remote_code=True)\n",
        "        self.model.config.use_flash_attention = False\n",
        "        self.model = self.model.to(\"cuda\" if torch.cuda.is_available() else \"cpu\").eval()\n",
        "\n",
        "    def predict(self, image_path):\n",
        "        conversation = [\n",
        "            {\n",
        "                \"role\": \"<|User|>\",\n",
        "                \"content\": \"\"\"<image>\\n\n",
        "                言語設定：日本語。\n",
        "                以下の項目だけ答えてください：\n",
        "                - 国籍\n",
        "                - 氏名\n",
        "                - 性別:(男|女)\n",
        "                - 生年月日\n",
        "                - 住居地\n",
        "                - 在留資格\n",
        "                - 右上の番号は在留カード番号です:\n",
        "                - 在留期間(PERIOD OF STAY):X年 (XXXX年XX月XX日)\n",
        "                それ以外の説明や解説は不要です。\"\"\",\n",
        "                \"images\": [image_path],\n",
        "            },\n",
        "            {\"role\": \"<|Assistant|>\", \"content\": \"\"},\n",
        "        ]\n",
        "\n",
        "        pil_images = load_pil_images(conversation)\n",
        "        inputs = self.processor(conversations=conversation, images=pil_images, force_batchify=True)\n",
        "        inputs = inputs.to(self.model.device)\n",
        "\n",
        "        inputs_dict = dict(inputs)\n",
        "\n",
        "        # ✅  float32　だけ\n",
        "        for k, v in inputs_dict.items():\n",
        "            if isinstance(v, torch.Tensor) and k in [\"pixel_values\", \"images\"]:\n",
        "                inputs_dict[k] = v.to(torch.float32)\n",
        "\n",
        "        inputs_embeds = self.model.prepare_inputs_embeds(**inputs_dict)\n",
        "\n",
        "        outputs = self.model.generate(\n",
        "            inputs_embeds=inputs_embeds,\n",
        "            attention_mask=inputs_dict.get(\"attention_mask\"),\n",
        "            pad_token_id=self.tokenizer.eos_token_id,\n",
        "            bos_token_id=self.tokenizer.bos_token_id,\n",
        "            eos_token_id=self.tokenizer.eos_token_id,\n",
        "            max_new_tokens=300,\n",
        "            do_sample=False,\n",
        "            use_cache=True,\n",
        "        )\n",
        "\n",
        "        return self.tokenizer.decode(outputs[0].cpu().tolist(), skip_special_tokens=True)\n",
        "\n",
        "# ------------------------------\n",
        "# ✅ 文字列\n",
        "# ------------------------------\n",
        "def extract_fields(text):\n",
        "    def extract_multiline_address(text):\n",
        "        match = re.search(r\"住居地[:：]?\\s*(.+)\", text)\n",
        "        return match.group(1).strip() if match else \"\"\n",
        "\n",
        "    def extract_stay_period(text):\n",
        "        match = re.search(r\"在留期間(?:\\(PERIOD OF STAY\\))?.*?[:：]?\\s*(\\d+年).*?\\(?(\\d{4}年\\d{1,2}月\\d{1,2}日)\", text)\n",
        "        return (match.group(1), match.group(2)) if match else (\"\", \"\")\n",
        "\n",
        "    def extract_card_number(text):\n",
        "        match = re.search(r\"右上の番号は在留カード番号です[:：]?\\s*([A-Z0-9]+)\", text)\n",
        "        return match.group(1) if match else \"\"\n",
        "\n",
        "    return {\n",
        "        \"国籍\": re.search(r\"国籍[:：]?\\s*([^\\s\\n]+)\", text).group(1) if re.search(r\"国籍[:：]?\\s*([^\\s\\n]+)\", text) else \"\",\n",
        "        \"氏名\": re.search(r\"氏名[:：]?\\s*(.+)\", text).group(1).strip() if re.search(r\"氏名[:：]?\\s*(.+)\", text) else \"\",\n",
        "        \"性別\": re.search(r\"性別[:：]?\\s*(男|女)\", text).group(1) if re.search(r\"性別[:：]?\\s*(男|女)\", text) else \"\",\n",
        "        \"生年月日\": re.search(r\"生年月日[:：]?\\s*(\\d{4}年\\d{1,2}月\\d{1,2}日)\", text).group(1) if re.search(r\"生年月日[:：]?\\s*(\\d{4}年\\d{1,2}月\\d{1,2}日)\", text) else \"\",\n",
        "        \"住居地\": extract_multiline_address(text),\n",
        "        \"在留資格\": re.search(r\"在留資格[:：]?\\s*(\\S+)\", text).group(1) if re.search(r\"在留資格[:：]?\\s*(\\S+)\", text) else \"\",\n",
        "        \"在留カード番号\": extract_card_number(text),\n",
        "        \"在留期間_期間\": extract_stay_period(text)[0],\n",
        "        \"在留期間_満了日\": extract_stay_period(text)[1],\n",
        "    }\n",
        "\n",
        "# ------------------------------\n",
        "# ✅ 保存 CSV\n",
        "# ------------------------------\n",
        "def save_to_csv(data_list, path):\n",
        "    keys = [\"学籍番号\"] + [k for k in data_list[0].keys() if k != \"学籍番号\"]\n",
        "    with open(path, \"w\", newline=\"\", encoding=\"utf-8\") as f:\n",
        "        writer = csv.DictWriter(f, fieldnames=keys)\n",
        "        writer.writeheader()\n",
        "        for row in data_list:\n",
        "            writer.writerow(row)\n",
        "\n",
        "# ------------------------------\n",
        "# ✅ 一つファイル\n",
        "# ------------------------------\n",
        "def process_single():\n",
        "    uploaded = files.upload()\n",
        "    for filename in uploaded.keys():\n",
        "        result = ocr.predict(filename)\n",
        "        fields = extract_fields(result)\n",
        "        fields[\"学籍番号\"] = os.path.splitext(os.path.basename(filename))[0]\n",
        "        save_to_csv([fields], \"result_single.csv\")\n",
        "        files.download(\"result_single.csv\")\n",
        "\n",
        "# ------------------------------\n",
        "# ✅ 多数ファイル\n",
        "# ------------------------------\n",
        "def process_batch():\n",
        "    uploaded = files.upload()\n",
        "    results = []\n",
        "    for filename in uploaded.keys():\n",
        "        result = ocr.predict(filename)\n",
        "        fields = extract_fields(result)\n",
        "        fields[\"学籍番号\"] = os.path.splitext(os.path.basename(filename))[0]\n",
        "        results.append(fields)\n",
        "    save_to_csv(results, \"result_batch.csv\")\n",
        "    files.download(\"result_batch.csv\")\n",
        "\n",
        "# ------------------------------\n",
        "# ✅ OCRモデル初期化\n",
        "# ------------------------------\n",
        "ocr = OCRModel(\"deepseek-ai/deepseek-vl2-tiny\")\n",
        "print(\"✅ OCRモデル初期化完了。以下を実行してください：\")\n",
        "print(\"- process_single()：1枚の画像を認識\")\n",
        "print(\"- process_batch()：複数画像を一括認識\")\n"
      ],
      "metadata": {
        "id": "lpPcrJwZTe5r"
      },
      "execution_count": null,
      "outputs": []
    },
    {
      "cell_type": "code",
      "source": [
        "#単ファイルOCR\n",
        "process_single()"
      ],
      "metadata": {
        "id": "wITQLIeRVh70"
      },
      "execution_count": null,
      "outputs": []
    },
    {
      "cell_type": "code",
      "source": [
        "#多数ファイルOCR\n",
        "process_batch()"
      ],
      "metadata": {
        "id": "5hXhH9GDVib5"
      },
      "execution_count": null,
      "outputs": []
    },
    {
      "cell_type": "code",
      "source": [
        "#モード再開\n",
        "import os\n",
        "os.kill(os.getpid(), 9)"
      ],
      "metadata": {
        "id": "3MJvglRddjo1"
      },
      "execution_count": null,
      "outputs": []
    },
    {
      "cell_type": "code",
      "source": [
        "#全てのファイルを削除\n",
        "!rm -rf /content/*"
      ],
      "metadata": {
        "id": "_mCG9FOFvqb6"
      },
      "execution_count": 3,
      "outputs": []
    },
    {
      "cell_type": "code",
      "source": [
        "!ls /content"
      ],
      "metadata": {
        "id": "V9ej99y9v0k5"
      },
      "execution_count": 5,
      "outputs": []
    }
  ]
}